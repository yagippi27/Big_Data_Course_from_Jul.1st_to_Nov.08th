{
 "cells": [
  {
   "cell_type": "code",
   "execution_count": 2,
   "metadata": {},
   "outputs": [],
   "source": [
    "import tensorflow as tf"
   ]
  },
  {
   "cell_type": "code",
   "execution_count": 15,
   "metadata": {},
   "outputs": [],
   "source": [
    "data = [[2, 81], [4, 93], [6, 91], [8, 97]]\n",
    "x_data = [x_row[0] for x_row in data]\n",
    "y_data = [y_row[1] for y_row in data]\n",
    "\n",
    "learning_rate = 0.1"
   ]
  },
  {
   "cell_type": "code",
   "execution_count": 16,
   "metadata": {},
   "outputs": [],
   "source": [
    "a = tf.Variable(tf.random_uniform([1], 0, 10, dtype = tf.float64, seed = 0))\n",
    "b = tf.Variable(tf.random_uniform([1], 0, 100, dtype = tf.float64, seed = 0))"
   ]
  },
  {
   "cell_type": "code",
   "execution_count": 17,
   "metadata": {},
   "outputs": [],
   "source": [
    "y = a * x_data + b"
   ]
  },
  {
   "cell_type": "code",
   "execution_count": 18,
   "metadata": {},
   "outputs": [],
   "source": [
    "rmse = tf.sqrt(tf.reduce_mean(tf.square(y - y_data)))"
   ]
  },
  {
   "cell_type": "code",
   "execution_count": 19,
   "metadata": {},
   "outputs": [],
   "source": [
    "gradient_decent = tf.train.GradientDescentOptimizer(learing_rate).minimize(rmse)"
   ]
  },
  {
   "cell_type": "code",
   "execution_count": 27,
   "metadata": {},
   "outputs": [
    {
     "name": "stdout",
     "output_type": "stream",
     "text": [
      "Epoch: 0, RMSE = 30.2139421991, 기울기 a = 7.5235, y 절편 b = 80.5984\n",
      "Epoch: 100, RMSE = 2.8860236718, 기울기 a = 2.2299, y 절편 b = 79.4181\n",
      "Epoch: 200, RMSE = 2.8826088464, 기울기 a = 2.2601, y 절편 b = 79.2379\n",
      "Epoch: 300, RMSE = 2.8815017582, 기울기 a = 2.2773, y 절편 b = 79.1353\n",
      "Epoch: 400, RMSE = 2.8811434133, 기울기 a = 2.2871, y 절편 b = 79.0770\n",
      "Epoch: 500, RMSE = 2.8810274836, 기울기 a = 2.2927, y 절편 b = 79.0438\n",
      "Epoch: 600, RMSE = 2.8809899850, 기울기 a = 2.2958, y 절편 b = 79.0249\n",
      "Epoch: 700, RMSE = 2.8809778564, 기울기 a = 2.2976, y 절편 b = 79.0142\n",
      "Epoch: 800, RMSE = 2.8809739335, 기울기 a = 2.2987, y 절편 b = 79.0081\n",
      "Epoch: 900, RMSE = 2.8809726647, 기울기 a = 2.2992, y 절편 b = 79.0046\n",
      "Epoch: 1000, RMSE = 2.8809722544, 기울기 a = 2.2996, y 절편 b = 79.0026\n",
      "Epoch: 1100, RMSE = 2.8809721216, 기울기 a = 2.2998, y 절편 b = 79.0015\n",
      "Epoch: 1200, RMSE = 2.8809720787, 기울기 a = 2.2999, y 절편 b = 79.0008\n",
      "Epoch: 1300, RMSE = 2.8809720648, 기울기 a = 2.2999, y 절편 b = 79.0005\n",
      "Epoch: 1400, RMSE = 2.8809720603, 기울기 a = 2.3000, y 절편 b = 79.0003\n",
      "Epoch: 1500, RMSE = 2.8809720589, 기울기 a = 2.3000, y 절편 b = 79.0002\n",
      "Epoch: 1600, RMSE = 2.8809720584, 기울기 a = 2.3000, y 절편 b = 79.0001\n",
      "Epoch: 1700, RMSE = 2.8809720583, 기울기 a = 2.3000, y 절편 b = 79.0001\n",
      "Epoch: 1800, RMSE = 2.8809720582, 기울기 a = 2.3000, y 절편 b = 79.0000\n",
      "Epoch: 1900, RMSE = 2.8809720582, 기울기 a = 2.3000, y 절편 b = 79.0000\n",
      "Epoch: 2000, RMSE = 2.8809720582, 기울기 a = 2.3000, y 절편 b = 79.0000\n"
     ]
    }
   ],
   "source": [
    "with tf.Session() as sess:\n",
    "    sess.run(tf.global_variables_initializer())\n",
    "    for step in range(2001):\n",
    "        sess.run(gradient_decent)\n",
    "        if step % 100 ==0:\n",
    "            print(\"Epoch: %.f, RMSE = %.10f, 기울기 a = %.4f, y 절편 b = %.4f\"\n",
    "                 % (step, sess.run(rmse), sess.run(a), sess.run(b)))"
   ]
  },
  {
   "cell_type": "markdown",
   "metadata": {},
   "source": [
    "# 코딩으로 확인하는 다중 선형 회귀"
   ]
  },
  {
   "cell_type": "code",
   "execution_count": 10,
   "metadata": {},
   "outputs": [],
   "source": [
    "import tensorflow as tf"
   ]
  },
  {
   "cell_type": "code",
   "execution_count": 11,
   "metadata": {},
   "outputs": [],
   "source": [
    "data = [[2,0,81],[4,4,93],[6,2,91],[8,3,97]]\n",
    "x1 = [x_row1[0] for x_row1 in data]\n",
    "x2 = [x_row2[1] for x_row2 in data]\n",
    "y_data = [y_row[2] for y_row in data]"
   ]
  },
  {
   "cell_type": "code",
   "execution_count": 12,
   "metadata": {},
   "outputs": [],
   "source": [
    "a1 = tf.Variable(tf.random_uniform([1], 0, 10, dtype = tf.float64, seed=0))\n",
    "a2 = tf.Variable(tf.random_uniform([1], 0, 10, dtype = tf.float64, seed=0))\n",
    "b =  tf.Variable(tf.random_uniform([1], 0, 100, dtype = tf.float64, seed=0))"
   ]
  },
  {
   "cell_type": "code",
   "execution_count": 13,
   "metadata": {},
   "outputs": [],
   "source": [
    "y = a1 * x1 + a2 * x2 + b"
   ]
  },
  {
   "cell_type": "code",
   "execution_count": 14,
   "metadata": {},
   "outputs": [],
   "source": [
    "rmse = tf.sqrt(tf.reduce_mean(tf.square(y - y_data)))"
   ]
  },
  {
   "cell_type": "code",
   "execution_count": 17,
   "metadata": {},
   "outputs": [],
   "source": [
    "learning_rate = 0.1"
   ]
  },
  {
   "cell_type": "code",
   "execution_count": 18,
   "metadata": {},
   "outputs": [],
   "source": [
    "gradient_decent = tf.train.GradientDescentOptimizer(learning_rate).minimize(rmse)"
   ]
  },
  {
   "cell_type": "code",
   "execution_count": 19,
   "metadata": {},
   "outputs": [
    {
     "name": "stdout",
     "output_type": "stream",
     "text": [
      "Epoch: 0, RMSE = 49.1842, 기울기 a1 =  7.5270, 기울기 a2 = 7.8160, y절편 b = 80.5980\n",
      "Epoch: 100, RMSE = 1.8368, 기울기 a1 =  1.1306, 기울기 a2 = 2.1316, y절편 b = 78.5119\n",
      "Epoch: 200, RMSE = 1.8370, 기울기 a1 =  1.1879, 기울기 a2 = 2.1487, y절편 b = 78.1057\n",
      "Epoch: 300, RMSE = 1.8370, 기울기 a1 =  1.2122, 기울기 a2 = 2.1571, y절편 b = 77.9352\n",
      "Epoch: 400, RMSE = 1.8370, 기울기 a1 =  1.2226, 기울기 a2 = 2.1607, y절편 b = 77.8636\n",
      "Epoch: 500, RMSE = 1.8370, 기울기 a1 =  1.2269, 기울기 a2 = 2.1622, y절편 b = 77.8335\n",
      "Epoch: 600, RMSE = 1.8370, 기울기 a1 =  1.2288, 기울기 a2 = 2.1628, y절편 b = 77.8208\n",
      "Epoch: 700, RMSE = 1.8370, 기울기 a1 =  1.2295, 기울기 a2 = 2.1631, y절편 b = 77.8155\n",
      "Epoch: 800, RMSE = 1.8370, 기울기 a1 =  1.2299, 기울기 a2 = 2.1632, y절편 b = 77.8133\n",
      "Epoch: 900, RMSE = 1.8370, 기울기 a1 =  1.2300, 기울기 a2 = 2.1632, y절편 b = 77.8124\n",
      "Epoch: 1000, RMSE = 1.8370, 기울기 a1 =  1.2301, 기울기 a2 = 2.1633, y절편 b = 77.8120\n",
      "Epoch: 1100, RMSE = 1.8370, 기울기 a1 =  1.2301, 기울기 a2 = 2.1633, y절편 b = 77.8118\n",
      "Epoch: 1200, RMSE = 1.8370, 기울기 a1 =  1.2301, 기울기 a2 = 2.1633, y절편 b = 77.8117\n",
      "Epoch: 1300, RMSE = 1.8370, 기울기 a1 =  1.2301, 기울기 a2 = 2.1633, y절편 b = 77.8117\n",
      "Epoch: 1400, RMSE = 1.8370, 기울기 a1 =  1.2301, 기울기 a2 = 2.1633, y절편 b = 77.8117\n",
      "Epoch: 1500, RMSE = 1.8370, 기울기 a1 =  1.2301, 기울기 a2 = 2.1633, y절편 b = 77.8117\n",
      "Epoch: 1600, RMSE = 1.8370, 기울기 a1 =  1.2301, 기울기 a2 = 2.1633, y절편 b = 77.8117\n",
      "Epoch: 1700, RMSE = 1.8370, 기울기 a1 =  1.2301, 기울기 a2 = 2.1633, y절편 b = 77.8117\n",
      "Epoch: 1800, RMSE = 1.8370, 기울기 a1 =  1.2301, 기울기 a2 = 2.1633, y절편 b = 77.8117\n",
      "Epoch: 1900, RMSE = 1.8370, 기울기 a1 =  1.2301, 기울기 a2 = 2.1633, y절편 b = 77.8117\n",
      "Epoch: 2000, RMSE = 1.8370, 기울기 a1 =  1.2301, 기울기 a2 = 2.1633, y절편 b = 77.8117\n"
     ]
    }
   ],
   "source": [
    "with tf.Session() as sess:\n",
    "    sess.run(tf.global_variables_initializer())\n",
    "    \n",
    "    for step in range(2001):\n",
    "        sess.run(gradient_decent)\n",
    "        if step % 100 == 0:\n",
    "            print(\"Epoch: %.f, RMSE = %.04f, 기울기 a1 =  %.4f, 기울기 a2 = %.4f, y절편 b = %.4f\"\n",
    "     % (step, sess.run(rmse), sess.run(a1), sess.run(a2), sess.run(b)))"
   ]
  },
  {
   "cell_type": "code",
   "execution_count": 21,
   "metadata": {},
   "outputs": [
    {
     "name": "stdout",
     "output_type": "stream",
     "text": [
      "2 0 80.27120000000001\n",
      "4 4 91.3846\n",
      "6 2 89.51820000000001\n",
      "8 3 94.14170000000001\n"
     ]
    }
   ],
   "source": [
    "for i in range(4):\n",
    "    y = 1.2301 * x1[i] + 2.1633 * x2[i] + 77.811\n",
    "    print(x1[i], x2[i], y)"
   ]
  },
  {
   "cell_type": "code",
   "execution_count": null,
   "metadata": {},
   "outputs": [],
   "source": []
  }
 ],
 "metadata": {
  "kernelspec": {
   "display_name": "Python 3",
   "language": "python",
   "name": "python3"
  },
  "language_info": {
   "codemirror_mode": {
    "name": "ipython",
    "version": 3
   },
   "file_extension": ".py",
   "mimetype": "text/x-python",
   "name": "python",
   "nbconvert_exporter": "python",
   "pygments_lexer": "ipython3",
   "version": "3.7.3"
  }
 },
 "nbformat": 4,
 "nbformat_minor": 2
}
