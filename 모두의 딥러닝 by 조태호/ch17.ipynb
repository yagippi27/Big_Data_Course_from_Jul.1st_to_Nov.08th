{
 "cells": [
  {
   "cell_type": "code",
   "execution_count": 18,
   "metadata": {},
   "outputs": [],
   "source": [
    "from keras.datasets import reuters\n",
    "from keras.models import Sequential\n",
    "from keras.layers import Dense, LSTM, Embedding\n",
    "from keras.preprocessing import sequence\n",
    "from keras.utils import np_utils\n",
    "from keras.callbacks import EarlyStopping\n",
    "\n",
    "import numpy as np\n",
    "import tensorflow as tf\n",
    "import matplotlib.pyplot as plt\n",
    "%matplotlib inline"
   ]
  },
  {
   "cell_type": "code",
   "execution_count": 39,
   "metadata": {},
   "outputs": [],
   "source": [
    "early_stopping_callback = EarlyStopping(monitor = 'val_loss', patience = 5)"
   ]
  },
  {
   "cell_type": "markdown",
   "metadata": {},
   "source": [
    "## 로이터 뉴스 카테고리 분류"
   ]
  },
  {
   "cell_type": "code",
   "execution_count": 20,
   "metadata": {},
   "outputs": [],
   "source": [
    "(X_train, Y_train), (X_test, Y_test) = reuters.load_data(num_words=1000, test_split=0.2)"
   ]
  },
  {
   "cell_type": "code",
   "execution_count": 21,
   "metadata": {},
   "outputs": [
    {
     "name": "stdout",
     "output_type": "stream",
     "text": [
      "46 카테고리\n",
      "8982 학습용 뉴스 기사\n",
      "2246 테스트용 뉴스 기사\n",
      "[1, 2, 2, 8, 43, 10, 447, 5, 25, 207, 270, 5, 2, 111, 16, 369, 186, 90, 67, 7, 89, 5, 19, 102, 6, 19, 124, 15, 90, 67, 84, 22, 482, 26, 7, 48, 4, 49, 8, 864, 39, 209, 154, 6, 151, 6, 83, 11, 15, 22, 155, 11, 15, 7, 48, 9, 2, 2, 504, 6, 258, 6, 272, 11, 15, 22, 134, 44, 11, 15, 16, 8, 197, 2, 90, 67, 52, 29, 209, 30, 32, 132, 6, 109, 15, 17, 12]\n"
     ]
    }
   ],
   "source": [
    "category = np.max(Y_train)+1\n",
    "print(category, '카테고리')\n",
    "print(len(X_train), '학습용 뉴스 기사')\n",
    "print(len(X_test), '테스트용 뉴스 기사')\n",
    "print(X_train[0])"
   ]
  },
  {
   "cell_type": "code",
   "execution_count": 22,
   "metadata": {},
   "outputs": [],
   "source": [
    "x_train = sequence.pad_sequences(X_train, maxlen=100)\n",
    "x_test = sequence.pad_sequences(X_test, maxlen=100)\n",
    "y_train = np_utils.to_categorical(Y_train)\n",
    "y_test = np_utils.to_categorical(Y_test)"
   ]
  },
  {
   "cell_type": "code",
   "execution_count": 24,
   "metadata": {},
   "outputs": [],
   "source": [
    "seed = 0\n",
    "np.random.seed(seed)\n",
    "tf.set_random_seed(seed)"
   ]
  },
  {
   "cell_type": "code",
   "execution_count": 25,
   "metadata": {},
   "outputs": [],
   "source": [
    "model = Sequential()\n",
    "model.add(Embedding(1000,100))\n",
    "model.add(LSTM(100, activation='tanh'))\n",
    "model.add(Dense(46, activation='softmax'))\n",
    "\n",
    "model.compile(loss = 'categorical_crossentropy', optimizer = 'adam', metrics = ['accuracy'])"
   ]
  },
  {
   "cell_type": "code",
   "execution_count": 26,
   "metadata": {},
   "outputs": [
    {
     "name": "stdout",
     "output_type": "stream",
     "text": [
      "Train on 8982 samples, validate on 2246 samples\n",
      "Epoch 1/30\n",
      "8982/8982 [==============================] - 14s 2ms/step - loss: 2.6157 - acc: 0.3376 - val_loss: 2.3280 - val_acc: 0.3620\n",
      "Epoch 2/30\n",
      "8982/8982 [==============================] - 13s 1ms/step - loss: 2.0066 - acc: 0.4882 - val_loss: 1.8701 - val_acc: 0.5365\n",
      "Epoch 3/30\n",
      "8982/8982 [==============================] - 13s 1ms/step - loss: 1.8225 - acc: 0.5343 - val_loss: 1.7584 - val_acc: 0.5508\n",
      "Epoch 4/30\n",
      "8982/8982 [==============================] - 13s 1ms/step - loss: 1.6907 - acc: 0.5617 - val_loss: 1.7068 - val_acc: 0.5623\n",
      "Epoch 5/30\n",
      "8982/8982 [==============================] - 14s 2ms/step - loss: 1.6571 - acc: 0.5659 - val_loss: 1.7143 - val_acc: 0.5619\n",
      "Epoch 6/30\n",
      "8982/8982 [==============================] - 14s 2ms/step - loss: 1.5876 - acc: 0.5885 - val_loss: 1.6476 - val_acc: 0.5757\n",
      "Epoch 7/30\n",
      "8982/8982 [==============================] - 14s 2ms/step - loss: 1.5451 - acc: 0.6011 - val_loss: 1.5924 - val_acc: 0.6015\n",
      "Epoch 8/30\n",
      "8982/8982 [==============================] - 14s 2ms/step - loss: 1.4625 - acc: 0.6177 - val_loss: 1.5312 - val_acc: 0.6046\n",
      "Epoch 9/30\n",
      "8982/8982 [==============================] - 14s 2ms/step - loss: 1.3997 - acc: 0.6412 - val_loss: 1.4758 - val_acc: 0.6184\n",
      "Epoch 10/30\n",
      "8982/8982 [==============================] - 14s 2ms/step - loss: 1.2958 - acc: 0.6656 - val_loss: 1.4246 - val_acc: 0.6362\n",
      "Epoch 11/30\n",
      "8982/8982 [==============================] - 14s 2ms/step - loss: 1.2307 - acc: 0.6788 - val_loss: 1.3906 - val_acc: 0.6340\n",
      "Epoch 12/30\n",
      "8982/8982 [==============================] - 14s 2ms/step - loss: 1.1642 - acc: 0.6993 - val_loss: 1.3076 - val_acc: 0.6696\n",
      "Epoch 13/30\n",
      "8982/8982 [==============================] - 14s 2ms/step - loss: 1.0934 - acc: 0.7194 - val_loss: 1.2665 - val_acc: 0.6781\n",
      "Epoch 14/30\n",
      "8982/8982 [==============================] - 14s 2ms/step - loss: 1.0366 - acc: 0.7338 - val_loss: 1.2526 - val_acc: 0.6874\n",
      "Epoch 15/30\n",
      "8982/8982 [==============================] - 14s 2ms/step - loss: 0.9889 - acc: 0.7501 - val_loss: 1.2471 - val_acc: 0.6834\n",
      "Epoch 16/30\n",
      "8982/8982 [==============================] - 14s 2ms/step - loss: 0.9470 - acc: 0.7538 - val_loss: 1.2057 - val_acc: 0.6990\n",
      "Epoch 17/30\n",
      "8982/8982 [==============================] - 14s 2ms/step - loss: 0.9069 - acc: 0.7668 - val_loss: 1.1929 - val_acc: 0.7102\n",
      "Epoch 18/30\n",
      "8982/8982 [==============================] - 14s 2ms/step - loss: 0.8711 - acc: 0.7766 - val_loss: 1.2292 - val_acc: 0.6986\n",
      "Epoch 19/30\n",
      "8982/8982 [==============================] - 14s 2ms/step - loss: 0.8459 - acc: 0.7821 - val_loss: 1.1965 - val_acc: 0.7093\n",
      "Epoch 20/30\n",
      "8982/8982 [==============================] - 14s 2ms/step - loss: 0.8355 - acc: 0.7861 - val_loss: 1.1875 - val_acc: 0.7061\n",
      "Epoch 21/30\n",
      "8982/8982 [==============================] - 15s 2ms/step - loss: 0.7763 - acc: 0.7984 - val_loss: 1.2029 - val_acc: 0.7075\n",
      "Epoch 22/30\n",
      "8982/8982 [==============================] - 16s 2ms/step - loss: 0.7514 - acc: 0.8068 - val_loss: 1.2340 - val_acc: 0.7088\n",
      "Epoch 23/30\n",
      "8982/8982 [==============================] - 15s 2ms/step - loss: 0.7262 - acc: 0.8128 - val_loss: 1.2083 - val_acc: 0.7124\n",
      "Epoch 24/30\n",
      "8982/8982 [==============================] - 15s 2ms/step - loss: 0.6846 - acc: 0.8222 - val_loss: 1.2342 - val_acc: 0.7070\n",
      "Epoch 25/30\n",
      "8982/8982 [==============================] - 15s 2ms/step - loss: 0.6576 - acc: 0.8312 - val_loss: 1.2030 - val_acc: 0.7128\n",
      "Epoch 26/30\n",
      "8982/8982 [==============================] - 14s 2ms/step - loss: 0.6294 - acc: 0.8356 - val_loss: 1.2436 - val_acc: 0.7102\n",
      "Epoch 27/30\n",
      "8982/8982 [==============================] - 14s 2ms/step - loss: 0.6213 - acc: 0.8403 - val_loss: 1.2283 - val_acc: 0.7102\n",
      "Epoch 28/30\n",
      "8982/8982 [==============================] - 14s 2ms/step - loss: 0.5707 - acc: 0.8552 - val_loss: 1.2620 - val_acc: 0.7075\n",
      "Epoch 29/30\n",
      "8982/8982 [==============================] - 14s 2ms/step - loss: 0.5483 - acc: 0.8589 - val_loss: 1.3121 - val_acc: 0.7128\n",
      "Epoch 30/30\n",
      "8982/8982 [==============================] - 15s 2ms/step - loss: 0.5473 - acc: 0.8616 - val_loss: 1.2929 - val_acc: 0.7061\n"
     ]
    }
   ],
   "source": [
    "history1 = model.fit(x_train, y_train, batch_size = 100, epochs=30, validation_data=(x_test, y_test))"
   ]
  },
  {
   "cell_type": "code",
   "execution_count": 27,
   "metadata": {},
   "outputs": [
    {
     "name": "stdout",
     "output_type": "stream",
     "text": [
      "2246/2246 [==============================] - 1s 477us/step\n",
      "\n",
      " Test Accuracy: 0.7061\n"
     ]
    }
   ],
   "source": [
    "print(\"\\n Test Accuracy: %.4f\" % (model.evaluate(x_test, y_test)[1]))"
   ]
  },
  {
   "cell_type": "code",
   "execution_count": 28,
   "metadata": {},
   "outputs": [],
   "source": [
    "y_vloss = history1.history['val_loss']\n",
    "y_loss = history1.history['loss']"
   ]
  },
  {
   "cell_type": "code",
   "execution_count": 29,
   "metadata": {},
   "outputs": [
    {
     "data": {
      "image/png": "[encoded data removed]",
      "text/plain": [
       "<Figure size 432x288 with 1 Axes>"
      ]
     },
     "metadata": {
      "needs_background": "light"
     },
     "output_type": "display_data"
    }
   ],
   "source": [
    "x_len = np.arange(len(y_loss))\n",
    "plt.plot(x_len, y_vloss, marker='.', c='red', label='Testset_loss')\n",
    "plt.plot(x_len, y_loss, marker='.', c='blue', label='Trainset_loss')\n",
    "\n",
    "plt.legend(loc=\"upper right\")\n",
    "plt.grid()\n",
    "plt.xlabel('epochs')\n",
    "plt.ylabel('loss')\n",
    "plt.show()"
   ]
  },
  {
   "cell_type": "code",
   "execution_count": 30,
   "metadata": {},
   "outputs": [],
   "source": [
    "del model"
   ]
  },
  {
   "cell_type": "markdown",
   "metadata": {},
   "source": [
    "## IMDB 리뷰 분석"
   ]
  },
  {
   "cell_type": "code",
   "execution_count": 31,
   "metadata": {},
   "outputs": [],
   "source": [
    "from keras.preprocessing import sequence\n",
    "from keras.models import Sequential\n",
    "from keras.layers import Dense, Dropout, Activation, Embedding, LSTM, Conv1D, MaxPooling1D\n",
    "from keras.datasets import imdb\n",
    "\n",
    "import numpy as np\n",
    "import tensorflow as tf\n",
    "import matplotlib.pyplot as plt"
   ]
  },
  {
   "cell_type": "code",
   "execution_count": 32,
   "metadata": {},
   "outputs": [],
   "source": [
    "seed = 0\n",
    "np.random.seed(seed)\n",
    "tf.set_random_seed(seed)"
   ]
  },
  {
   "cell_type": "code",
   "execution_count": 33,
   "metadata": {},
   "outputs": [
    {
     "name": "stdout",
     "output_type": "stream",
     "text": [
      "Downloading data from https://s3.amazonaws.com/text-datasets/imdb.npz\n",
      "17465344/17464789 [==============================] - 5s 0us/step\n"
     ]
    }
   ],
   "source": [
    "(x_train, y_train), (x_test, y_test) =imdb.load_data(num_words=5000)"
   ]
  },
  {
   "cell_type": "code",
   "execution_count": 34,
   "metadata": {},
   "outputs": [],
   "source": [
    "X_train = sequence.pad_sequences(x_train, maxlen=100)\n",
    "X_test = sequence.pad_sequences(x_test, maxlen=100)"
   ]
  },
  {
   "cell_type": "code",
   "execution_count": 35,
   "metadata": {},
   "outputs": [
    {
     "name": "stderr",
     "output_type": "stream",
     "text": [
      "W0822 10:23:07.763332  3320 deprecation.py:506] From C:\\Anaconda3\\lib\\site-packages\\keras\\backend\\tensorflow_backend.py:3445: calling dropout (from tensorflow.python.ops.nn_ops) with keep_prob is deprecated and will be removed in a future version.\n",
      "Instructions for updating:\n",
      "Please use `rate` instead of `keep_prob`. Rate should be set to `rate = 1 - keep_prob`.\n",
      "W0822 10:23:07.816335  3320 deprecation_wrapper.py:119] From C:\\Anaconda3\\lib\\site-packages\\keras\\backend\\tensorflow_backend.py:3976: The name tf.nn.max_pool is deprecated. Please use tf.nn.max_pool2d instead.\n",
      "\n"
     ]
    },
    {
     "name": "stdout",
     "output_type": "stream",
     "text": [
      "_________________________________________________________________\n",
      "Layer (type)                 Output Shape              Param #   \n",
      "=================================================================\n",
      "embedding_3 (Embedding)      (None, None, 100)         500000    \n",
      "_________________________________________________________________\n",
      "dropout_1 (Dropout)          (None, None, 100)         0         \n",
      "_________________________________________________________________\n",
      "conv1d_1 (Conv1D)            (None, None, 64)          32064     \n",
      "_________________________________________________________________\n",
      "max_pooling1d_1 (MaxPooling1 (None, None, 64)          0         \n",
      "_________________________________________________________________\n",
      "lstm_3 (LSTM)                (None, 55)                26400     \n",
      "_________________________________________________________________\n",
      "dense_3 (Dense)              (None, 1)                 56        \n",
      "_________________________________________________________________\n",
      "activation_1 (Activation)    (None, 1)                 0         \n",
      "=================================================================\n",
      "Total params: 558,520\n",
      "Trainable params: 558,520\n",
      "Non-trainable params: 0\n",
      "_________________________________________________________________\n"
     ]
    }
   ],
   "source": [
    "model = Sequential()\n",
    "model.add(Embedding(5000, 100))\n",
    "model.add(Dropout(0.5))\n",
    "model.add(Conv1D(64, 5, padding='valid', activation='relu', strides=1))\n",
    "model.add(MaxPooling1D(pool_size=4))\n",
    "model.add(LSTM(55))\n",
    "model.add(Dense(1))\n",
    "model.add(Activation('sigmoid'))\n",
    "model.summary()"
   ]
  },
  {
   "cell_type": "code",
   "execution_count": 36,
   "metadata": {},
   "outputs": [],
   "source": [
    "model.compile(loss='binary_crossentropy', optimizer='adam', metrics=['accuracy'])"
   ]
  },
  {
   "cell_type": "code",
   "execution_count": 40,
   "metadata": {},
   "outputs": [
    {
     "name": "stdout",
     "output_type": "stream",
     "text": [
      "Train on 25000 samples, validate on 25000 samples\n",
      "Epoch 1/15\n",
      "25000/25000 [==============================] - 21s 831us/step - loss: 0.2376 - acc: 0.9056 - val_loss: 0.3454 - val_acc: 0.8472\n",
      "Epoch 2/15\n",
      "25000/25000 [==============================] - 20s 818us/step - loss: 0.2019 - acc: 0.9213 - val_loss: 0.3408 - val_acc: 0.8555\n",
      "Epoch 3/15\n",
      "25000/25000 [==============================] - 21s 828us/step - loss: 0.1683 - acc: 0.9366 - val_loss: 0.3743 - val_acc: 0.8514\n",
      "Epoch 4/15\n",
      "25000/25000 [==============================] - 21s 837us/step - loss: 0.1399 - acc: 0.9465 - val_loss: 0.4340 - val_acc: 0.8476\n",
      "Epoch 5/15\n",
      "25000/25000 [==============================] - 21s 822us/step - loss: 0.1147 - acc: 0.9582 - val_loss: 0.4540 - val_acc: 0.8478\n",
      "Epoch 6/15\n",
      "25000/25000 [==============================] - 21s 824us/step - loss: 0.0955 - acc: 0.9662 - val_loss: 0.4745 - val_acc: 0.8478\n",
      "Epoch 7/15\n",
      "25000/25000 [==============================] - 21s 825us/step - loss: 0.0784 - acc: 0.9726 - val_loss: 0.5152 - val_acc: 0.8419\n"
     ]
    }
   ],
   "source": [
    "history2 = model.fit(X_train, y_train, epochs = 15, batch_size = 100, validation_data=(X_test, y_test), callbacks=[early_stopping_callback])"
   ]
  },
  {
   "cell_type": "code",
   "execution_count": 41,
   "metadata": {},
   "outputs": [
    {
     "name": "stdout",
     "output_type": "stream",
     "text": [
      "25000/25000 [==============================] - 4s 156us/step\n",
      "\n",
      " Test Accuracy: 0.8419\n"
     ]
    }
   ],
   "source": [
    "print('\\n Test Accuracy: %.4f' % (model.evaluate(X_test, y_test)[1]))"
   ]
  },
  {
   "cell_type": "code",
   "execution_count": 42,
   "metadata": {},
   "outputs": [],
   "source": [
    "y_vloss = history2.history['val_loss']\n",
    "y_loss = history2.history['loss']"
   ]
  },
  {
   "cell_type": "code",
   "execution_count": 43,
   "metadata": {},
   "outputs": [
    {
     "data": {
      "image/png": "[encoded data removed]",
      "text/plain": [
       "<Figure size 432x288 with 1 Axes>"
      ]
     },
     "metadata": {
      "needs_background": "light"
     },
     "output_type": "display_data"
    }
   ],
   "source": [
    "x_len = np.arange(len(y_loss))\n",
    "plt.plot(x_len, y_vloss, marker='.', c='red', label='Testset_loss')\n",
    "plt.plot(x_len, y_loss, marker='.', c='blue', label='Trainset_loss')\n",
    "\n",
    "plt.legend(loc='upper right')\n",
    "plt.grid()\n",
    "plt.xlabel('epochs')\n",
    "plt.ylabel('loss')\n",
    "plt.show()"
   ]
  },
  {
   "cell_type": "code",
   "execution_count": null,
   "metadata": {},
   "outputs": [],
   "source": []
  }
 ],
 "metadata": {
  "kernelspec": {
   "display_name": "Python 3",
   "language": "python",
   "name": "python3"
  },
  "language_info": {
   "codemirror_mode": {
    "name": "ipython",
    "version": 3
   },
   "file_extension": ".py",
   "mimetype": "text/x-python",
   "name": "python",
   "nbconvert_exporter": "python",
   "pygments_lexer": "ipython3",
   "version": "3.7.3"
  }
 },
 "nbformat": 4,
 "nbformat_minor": 2
}
