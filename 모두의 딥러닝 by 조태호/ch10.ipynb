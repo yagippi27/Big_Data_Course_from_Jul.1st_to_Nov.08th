{
 "cells": [
  {
   "cell_type": "code",
   "execution_count": 4,
   "metadata": {},
   "outputs": [],
   "source": [
    "from keras.models import Sequential\n",
    "from keras.layers import Dense\n",
    "import tensorflow as tf\n",
    "if type(tf.contrib) != type(tf) :# if의미는 빨간색 경고문(텐서플로우)를 없애는 것\n",
    "    tf.contrib._warning = None\n",
    "\n",
    "import numpy as np\n",
    "import pandas as pd"
   ]
  },
  {
   "cell_type": "code",
   "execution_count": 6,
   "metadata": {},
   "outputs": [],
   "source": [
    "seed = 0\n",
    "np.random.seed(seed)\n",
    "tf.set_random_seed(seed)\n",
    "\n",
    "Data_set = np.loadtxt(\"dataset/ThoraricSurgery.csv\", delimiter=\",\")\n",
    "\n",
    "X = Data_set[:,0:17]\n",
    "Y = Data_set[:,17]"
   ]
  },
  {
   "cell_type": "code",
   "execution_count": 21,
   "metadata": {},
   "outputs": [
    {
     "name": "stdout",
     "output_type": "stream",
     "text": [
      "Epoch 1/30\n",
      "470/470 [==============================] - 0s 407us/step - loss: 0.1488 - acc: 0.8511\n",
      "Epoch 2/30\n",
      "470/470 [==============================] - 0s 64us/step - loss: 0.1474 - acc: 0.8489\n",
      "Epoch 3/30\n",
      "470/470 [==============================] - 0s 66us/step - loss: 0.1474 - acc: 0.8447\n",
      "Epoch 4/30\n",
      "470/470 [==============================] - 0s 66us/step - loss: 0.1456 - acc: 0.8511\n",
      "Epoch 5/30\n",
      "470/470 [==============================] - 0s 66us/step - loss: 0.1459 - acc: 0.8511\n",
      "Epoch 6/30\n",
      "470/470 [==============================] - 0s 66us/step - loss: 0.1460 - acc: 0.8511\n",
      "Epoch 7/30\n",
      "470/470 [==============================] - 0s 64us/step - loss: 0.1454 - acc: 0.8511\n",
      "Epoch 8/30\n",
      "470/470 [==============================] - 0s 64us/step - loss: 0.1455 - acc: 0.8511\n",
      "Epoch 9/30\n",
      "470/470 [==============================] - 0s 68us/step - loss: 0.1448 - acc: 0.8511\n",
      "Epoch 10/30\n",
      "470/470 [==============================] - 0s 68us/step - loss: 0.1447 - acc: 0.8511\n",
      "Epoch 11/30\n",
      "470/470 [==============================] - 0s 66us/step - loss: 0.1439 - acc: 0.8468\n",
      "Epoch 12/30\n",
      "470/470 [==============================] - 0s 68us/step - loss: 0.1439 - acc: 0.8553\n",
      "Epoch 13/30\n",
      "470/470 [==============================] - 0s 68us/step - loss: 0.1446 - acc: 0.8511\n",
      "Epoch 14/30\n",
      "470/470 [==============================] - 0s 66us/step - loss: 0.1435 - acc: 0.8468\n",
      "Epoch 15/30\n",
      "470/470 [==============================] - 0s 68us/step - loss: 0.1421 - acc: 0.8489\n",
      "Epoch 16/30\n",
      "470/470 [==============================] - 0s 64us/step - loss: 0.1423 - acc: 0.8468\n",
      "Epoch 17/30\n",
      "470/470 [==============================] - 0s 66us/step - loss: 0.1443 - acc: 0.8489\n",
      "Epoch 18/30\n",
      "470/470 [==============================] - 0s 62us/step - loss: 0.1442 - acc: 0.8404\n",
      "Epoch 19/30\n",
      "470/470 [==============================] - 0s 64us/step - loss: 0.1413 - acc: 0.8532\n",
      "Epoch 20/30\n",
      "470/470 [==============================] - 0s 66us/step - loss: 0.1499 - acc: 0.8383\n",
      "Epoch 21/30\n",
      "470/470 [==============================] - 0s 64us/step - loss: 0.1402 - acc: 0.8404\n",
      "Epoch 22/30\n",
      "470/470 [==============================] - 0s 66us/step - loss: 0.1477 - acc: 0.8319\n",
      "Epoch 23/30\n",
      "470/470 [==============================] - 0s 77us/step - loss: 0.1394 - acc: 0.8447\n",
      "Epoch 24/30\n",
      "470/470 [==============================] - 0s 81us/step - loss: 0.1401 - acc: 0.8468\n",
      "Epoch 25/30\n",
      "470/470 [==============================] - 0s 64us/step - loss: 0.1392 - acc: 0.8447\n",
      "Epoch 26/30\n",
      "470/470 [==============================] - 0s 60us/step - loss: 0.1409 - acc: 0.8383\n",
      "Epoch 27/30\n",
      "470/470 [==============================] - 0s 62us/step - loss: 0.1352 - acc: 0.8468\n",
      "Epoch 28/30\n",
      "470/470 [==============================] - 0s 62us/step - loss: 0.1378 - acc: 0.8511\n",
      "Epoch 29/30\n",
      "470/470 [==============================] - 0s 62us/step - loss: 0.1333 - acc: 0.8426\n",
      "Epoch 30/30\n",
      "470/470 [==============================] - 0s 64us/step - loss: 0.1402 - acc: 0.8319\n"
     ]
    },
    {
     "data": {
      "text/plain": [
       "<keras.callbacks.History at 0x127cbe80>"
      ]
     },
     "execution_count": 21,
     "metadata": {},
     "output_type": "execute_result"
    }
   ],
   "source": [
    "model = Sequential()\n",
    "model.add(Dense(30, input_dim = 17, activation= \"softplus\"))\n",
    "model.add(Dense(1, activation = \"sigmoid\"))\n",
    "\n",
    "model.compile(loss = \"mean_squared_error\", optimizer = 'RMSProp', metrics = ['accuracy'])\n",
    "model.fit(X, Y, epochs = 30, batch_size = 10)"
   ]
  },
  {
   "cell_type": "code",
   "execution_count": 22,
   "metadata": {},
   "outputs": [
    {
     "name": "stdout",
     "output_type": "stream",
     "text": [
      "470/470 [==============================] - 0s 159us/step\n",
      "\n",
      " Accuracy: 0.8511\n"
     ]
    }
   ],
   "source": [
    "print(\"\\n Accuracy: %.4f\" % (model.evaluate(X, Y)[1]))"
   ]
  },
  {
   "cell_type": "code",
   "execution_count": null,
   "metadata": {},
   "outputs": [],
   "source": []
  }
 ],
 "metadata": {
  "kernelspec": {
   "display_name": "Python 3",
   "language": "python",
   "name": "python3"
  },
  "language_info": {
   "codemirror_mode": {
    "name": "ipython",
    "version": 3
   },
   "file_extension": ".py",
   "mimetype": "text/x-python",
   "name": "python",
   "nbconvert_exporter": "python",
   "pygments_lexer": "ipython3",
   "version": "3.7.3"
  }
 },
 "nbformat": 4,
 "nbformat_minor": 2
}
