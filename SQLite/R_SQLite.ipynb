{
 "cells": [
  {
   "cell_type": "markdown",
   "metadata": {},
   "source": [
    "SQLite 시작(대문자는 SQL문, 대문자+소문자는 데이터베이스명, 소문자는 필드명, 조건명"
   ]
  },
  {
   "cell_type": "code",
   "execution_count": 67,
   "metadata": {},
   "outputs": [],
   "source": [
    "import sqlite3"
   ]
  },
  {
   "cell_type": "code",
   "execution_count": 68,
   "metadata": {},
   "outputs": [],
   "source": [
    "conn = sqlite3.connect('./test.db')"
   ]
  },
  {
   "cell_type": "markdown",
   "metadata": {},
   "source": [
    "SQLite의 이글스 테이블 지우기"
   ]
  },
  {
   "cell_type": "code",
   "execution_count": 8,
   "metadata": {},
   "outputs": [],
   "source": [
    "cur = conn.cursor() # 커서 정의하기"
   ]
  },
  {
   "cell_type": "code",
   "execution_count": 9,
   "metadata": {},
   "outputs": [
    {
     "data": {
      "text/plain": [
       "<sqlite3.Cursor at 0x57f3b90>"
      ]
     },
     "execution_count": 9,
     "metadata": {},
     "output_type": "execute_result"
    }
   ],
   "source": [
    "cur.execute('drop table eagles')"
   ]
  },
  {
   "cell_type": "markdown",
   "metadata": {},
   "source": [
    "데이터베이스 테이블 정의하기"
   ]
  },
  {
   "cell_type": "code",
   "execution_count": 17,
   "metadata": {},
   "outputs": [
    {
     "data": {
      "text/plain": [
       "<sqlite3.Cursor at 0x57f3b90>"
      ]
     },
     "execution_count": 17,
     "metadata": {},
     "output_type": "execute_result"
    }
   ],
   "source": [
    "cur.execute('CREATE TABLE IF NOT EXISTS Eagles \\\n",
    "    (back_no INT NOT NULL, \\\n",
    "     name TEXT, \\\n",
    "     position TEXT, \\\n",
    "     hands TEXT, \\\n",
    "     highschool TEXT, \\\n",
    "     height INT, \\\n",
    "     PRIMARY KEY(back_no));')"
   ]
  },
  {
   "cell_type": "markdown",
   "metadata": {},
   "source": [
    "모든 필드 값이 있는 행을 테이블에 집어넣기"
   ]
  },
  {
   "cell_type": "code",
   "execution_count": 18,
   "metadata": {},
   "outputs": [
    {
     "data": {
      "text/plain": [
       "<sqlite3.Cursor at 0x58060a0>"
      ]
     },
     "execution_count": 18,
     "metadata": {},
     "output_type": "execute_result"
    }
   ],
   "source": [
    "cur = conn.cursor()\n",
    "cur.execute(\"INSERT INTO Eagles VALUES \\\n",
    "    (1, '하주석', '내야수', '우투좌타', '신일고', 184), \\\n",
    "    (28, '양성우', '외야수', '우투좌타', '충암고', 177);\")"
   ]
  },
  {
   "cell_type": "markdown",
   "metadata": {},
   "source": [
    "변경사항 저장하기"
   ]
  },
  {
   "cell_type": "code",
   "execution_count": 19,
   "metadata": {},
   "outputs": [],
   "source": [
    "conn.commit()"
   ]
  },
  {
   "cell_type": "markdown",
   "metadata": {},
   "source": [
    "파이썬에 표 집어넣기"
   ]
  },
  {
   "cell_type": "code",
   "execution_count": 21,
   "metadata": {},
   "outputs": [
    {
     "data": {
      "text/html": [
       "<div>\n",
       "<style scoped>\n",
       "    .dataframe tbody tr th:only-of-type {\n",
       "        vertical-align: middle;\n",
       "    }\n",
       "\n",
       "    .dataframe tbody tr th {\n",
       "        vertical-align: top;\n",
       "    }\n",
       "\n",
       "    .dataframe thead th {\n",
       "        text-align: right;\n",
       "    }\n",
       "</style>\n",
       "<table border=\"1\" class=\"dataframe\">\n",
       "  <thead>\n",
       "    <tr style=\"text-align: right;\">\n",
       "      <th></th>\n",
       "      <th>back_no</th>\n",
       "      <th>name</th>\n",
       "      <th>position</th>\n",
       "      <th>hands</th>\n",
       "      <th>hightschool</th>\n",
       "      <th>height</th>\n",
       "    </tr>\n",
       "  </thead>\n",
       "  <tbody>\n",
       "    <tr>\n",
       "      <th>0</th>\n",
       "      <td>13</td>\n",
       "      <td>최재훈</td>\n",
       "      <td>포수</td>\n",
       "      <td>우투우타</td>\n",
       "      <td>덕수고</td>\n",
       "      <td>178</td>\n",
       "    </tr>\n",
       "    <tr>\n",
       "      <th>1</th>\n",
       "      <td>30</td>\n",
       "      <td>제라드호잉</td>\n",
       "      <td>외야수</td>\n",
       "      <td>우투좌타</td>\n",
       "      <td>톨레도대학교</td>\n",
       "      <td>190</td>\n",
       "    </tr>\n",
       "    <tr>\n",
       "      <th>2</th>\n",
       "      <td>50</td>\n",
       "      <td>이성열</td>\n",
       "      <td>내야수</td>\n",
       "      <td>우투좌타</td>\n",
       "      <td>효천고</td>\n",
       "      <td>185</td>\n",
       "    </tr>\n",
       "    <tr>\n",
       "      <th>3</th>\n",
       "      <td>52</td>\n",
       "      <td>김태균</td>\n",
       "      <td>내야수</td>\n",
       "      <td>우투우타</td>\n",
       "      <td>천안북일고</td>\n",
       "      <td>185</td>\n",
       "    </tr>\n",
       "    <tr>\n",
       "      <th>4</th>\n",
       "      <td>57</td>\n",
       "      <td>정우람</td>\n",
       "      <td>투수</td>\n",
       "      <td>좌투좌타</td>\n",
       "      <td>경남상고</td>\n",
       "      <td>181</td>\n",
       "    </tr>\n",
       "    <tr>\n",
       "      <th>5</th>\n",
       "      <td>43</td>\n",
       "      <td>정은원</td>\n",
       "      <td>내야수</td>\n",
       "      <td>우투좌타</td>\n",
       "      <td>인천고</td>\n",
       "      <td>177</td>\n",
       "    </tr>\n",
       "    <tr>\n",
       "      <th>6</th>\n",
       "      <td>27</td>\n",
       "      <td>변우혁</td>\n",
       "      <td>내야수</td>\n",
       "      <td>우투우타</td>\n",
       "      <td>북일고</td>\n",
       "      <td>185</td>\n",
       "    </tr>\n",
       "    <tr>\n",
       "      <th>7</th>\n",
       "      <td>37</td>\n",
       "      <td>노시환</td>\n",
       "      <td>내야수</td>\n",
       "      <td>우투우타</td>\n",
       "      <td>경남고</td>\n",
       "      <td>185</td>\n",
       "    </tr>\n",
       "    <tr>\n",
       "      <th>8</th>\n",
       "      <td>66</td>\n",
       "      <td>유장혁</td>\n",
       "      <td>외야수</td>\n",
       "      <td>우투우타</td>\n",
       "      <td>광주일고</td>\n",
       "      <td>186</td>\n",
       "    </tr>\n",
       "    <tr>\n",
       "      <th>9</th>\n",
       "      <td>14</td>\n",
       "      <td>강경학</td>\n",
       "      <td>내야수</td>\n",
       "      <td>우투좌타</td>\n",
       "      <td>광주동성고</td>\n",
       "      <td>181</td>\n",
       "    </tr>\n",
       "  </tbody>\n",
       "</table>\n",
       "</div>"
      ],
      "text/plain": [
       "   back_no   name  position  hands  hightschool   height\n",
       "0       13    최재훈        포수   우투우타          덕수고      178\n",
       "1       30  제라드호잉       외야수   우투좌타       톨레도대학교      190\n",
       "2       50    이성열       내야수   우투좌타          효천고      185\n",
       "3       52    김태균       내야수   우투우타        천안북일고      185\n",
       "4       57    정우람        투수   좌투좌타         경남상고      181\n",
       "5       43    정은원       내야수   우투좌타          인천고      177\n",
       "6       27    변우혁       내야수   우투우타          북일고      185\n",
       "7       37    노시환       내야수   우투우타          경남고      185\n",
       "8       66    유장혁       외야수   우투우타         광주일고      186\n",
       "9       14    강경학       내야수   우투좌타        광주동성고      181"
      ]
     },
     "execution_count": 21,
     "metadata": {},
     "output_type": "execute_result"
    }
   ],
   "source": [
    "import pandas as pd\n",
    "players = pd.read_csv('./players.csv', encoding='EUC-KR')\n",
    "players"
   ]
  },
  {
   "cell_type": "markdown",
   "metadata": {},
   "source": [
    "SQLite에 표 집어넣기"
   ]
  },
  {
   "cell_type": "code",
   "execution_count": 23,
   "metadata": {},
   "outputs": [],
   "source": [
    "sql = 'INSERT INTO Eagles VALUES(?, ?, ?, ?, ?, ?);'\n",
    "for i in range(10):\n",
    "    cur.execute(sql, (int(players.iloc[i,0]),\n",
    "                      players.iloc[i,1], players.iloc[i,2],\n",
    "                      players.iloc[i,3], players.iloc[i,4],\n",
    "                      int(players.iloc[i,5])))"
   ]
  },
  {
   "cell_type": "code",
   "execution_count": 24,
   "metadata": {},
   "outputs": [],
   "source": [
    "conn.commit()"
   ]
  },
  {
   "cell_type": "markdown",
   "metadata": {},
   "source": [
    "순회조회"
   ]
  },
  {
   "cell_type": "code",
   "execution_count": 26,
   "metadata": {},
   "outputs": [
    {
     "name": "stdout",
     "output_type": "stream",
     "text": [
      "(1, '하주석', '내야수', '우투좌타', '신일고', 184)\n",
      "(28, '양성우', '외야수', '우투좌타', '충암고', 177)\n",
      "(13, '최재훈', '포수', '우투우타', '덕수고', 178)\n",
      "(30, '제라드호잉', '외야수', '우투좌타', '톨레도대학교', 190)\n",
      "(50, '이성열', '내야수', '우투좌타', '효천고', 185)\n",
      "(52, '김태균', '내야수', '우투우타', '천안북일고', 185)\n",
      "(57, '정우람', '투수', '좌투좌타', '경남상고', 181)\n",
      "(43, '정은원', '내야수', '우투좌타', '인천고', 177)\n",
      "(27, '변우혁', '내야수', '우투우타', '북일고', 185)\n",
      "(37, '노시환', '내야수', '우투우타', '경남고', 185)\n",
      "(66, '유장혁', '외야수', '우투우타', '광주일고', 186)\n",
      "(14, '강경학', '내야수', '우투좌타', '광주동성고', 181)\n"
     ]
    }
   ],
   "source": [
    "cur.execute('SELECT * FROM Eagles')\n",
    "for row in cur:\n",
    "    print(row)"
   ]
  },
  {
   "cell_type": "markdown",
   "metadata": {},
   "source": [
    "데이터 조회는 fetch로 하면 됨 fetch(one, many, all)"
   ]
  },
  {
   "cell_type": "code",
   "execution_count": 29,
   "metadata": {},
   "outputs": [
    {
     "name": "stdout",
     "output_type": "stream",
     "text": [
      "(1, '하주석', '내야수', '우투좌타', '신일고', 184)\n"
     ]
    }
   ],
   "source": [
    "cur.execute('SELECT * FROM Eagles')\n",
    "row = cur.fetchone()\n",
    "print(row)"
   ]
  },
  {
   "cell_type": "code",
   "execution_count": 30,
   "metadata": {},
   "outputs": [
    {
     "name": "stdout",
     "output_type": "stream",
     "text": [
      "(28, '양성우', '외야수', '우투좌타', '충암고', 177)\n",
      "(13, '최재훈', '포수', '우투우타', '덕수고', 178)\n"
     ]
    }
   ],
   "source": [
    "rows = cur.fetchmany(2)\n",
    "for row in rows:\n",
    "    print(row)"
   ]
  },
  {
   "cell_type": "code",
   "execution_count": 31,
   "metadata": {},
   "outputs": [
    {
     "name": "stdout",
     "output_type": "stream",
     "text": [
      "(30, '제라드호잉', '외야수', '우투좌타', '톨레도대학교', 190)\n",
      "(50, '이성열', '내야수', '우투좌타', '효천고', 185)\n",
      "(52, '김태균', '내야수', '우투우타', '천안북일고', 185)\n",
      "(57, '정우람', '투수', '좌투좌타', '경남상고', 181)\n",
      "(43, '정은원', '내야수', '우투좌타', '인천고', 177)\n",
      "(27, '변우혁', '내야수', '우투우타', '북일고', 185)\n",
      "(37, '노시환', '내야수', '우투우타', '경남고', 185)\n",
      "(66, '유장혁', '외야수', '우투우타', '광주일고', 186)\n",
      "(14, '강경학', '내야수', '우투좌타', '광주동성고', 181)\n"
     ]
    }
   ],
   "source": [
    "rows = cur.fetchall()\n",
    "for row in rows:\n",
    "    print(row)"
   ]
  },
  {
   "cell_type": "code",
   "execution_count": 32,
   "metadata": {},
   "outputs": [
    {
     "name": "stdout",
     "output_type": "stream",
     "text": [
      "('하주석',)\n",
      "('제라드호잉',)\n",
      "('이성열',)\n",
      "('김태균',)\n",
      "('정우람',)\n",
      "('변우혁',)\n",
      "('노시환',)\n",
      "('유장혁',)\n",
      "('강경학',)\n"
     ]
    }
   ],
   "source": [
    "cur.execute(\"SELECT name FROM Eagles WHERE height >180\")\n",
    "rows = cur.fetchall();\n",
    "for row in rows:\n",
    "    print(row)"
   ]
  },
  {
   "cell_type": "code",
   "execution_count": 35,
   "metadata": {},
   "outputs": [
    {
     "name": "stdout",
     "output_type": "stream",
     "text": [
      "(14, '강경학', '내야수', '우투좌타', '광주동성고', 181)\n"
     ]
    }
   ],
   "source": [
    "cur.execute('SELECT * FROM Eagles ORDER BY name')\n",
    "row = cur.fetchone()\n",
    "print(row)"
   ]
  },
  {
   "cell_type": "code",
   "execution_count": 36,
   "metadata": {},
   "outputs": [
    {
     "name": "stdout",
     "output_type": "stream",
     "text": [
      "(1, '하주석', '내야수', '우투좌타', '신일고', 184)\n"
     ]
    }
   ],
   "source": [
    "cur.execute('SELECT * FROM Eagles ORDER BY name DESC')\n",
    "row = cur.fetchone()\n",
    "print(row)"
   ]
  },
  {
   "cell_type": "code",
   "execution_count": 58,
   "metadata": {},
   "outputs": [
    {
     "name": "stdout",
     "output_type": "stream",
     "text": [
      "('내야수', 7, 183.14285714285714)\n",
      "('외야수', 3, 184.33333333333334)\n",
      "('투수', 1, 181.0)\n",
      "('포수', 1, 178.0)\n"
     ]
    }
   ],
   "source": [
    "cur = conn.cursor()\n",
    "cur.execute('SELECT * FROM Eagles ORDER BY height DESC LIMIT 5')\n",
    "row = cur.fetchall();\n",
    "for row in rows:\n",
    "    print(row)"
   ]
  },
  {
   "cell_type": "code",
   "execution_count": 59,
   "metadata": {},
   "outputs": [
    {
     "name": "stdout",
     "output_type": "stream",
     "text": [
      "(12,)\n"
     ]
    }
   ],
   "source": [
    "cur.execute('SELECT count(*) FROM Eagles')\n",
    "count = cur.fetchone()\n",
    "print(count)"
   ]
  },
  {
   "cell_type": "markdown",
   "metadata": {},
   "source": [
    "그루핑, 집계함수"
   ]
  },
  {
   "cell_type": "code",
   "execution_count": 60,
   "metadata": {},
   "outputs": [
    {
     "name": "stdout",
     "output_type": "stream",
     "text": [
      "('내야수', 7, 183.14285714285714)\n",
      "('외야수', 3, 184.33333333333334)\n",
      "('투수', 1, 181.0)\n",
      "('포수', 1, 178.0)\n"
     ]
    }
   ],
   "source": [
    "cur.execute('SELECT position, count(*), avg(height) FROM Eagles GROUP BY position')\n",
    "rows = cur.fetchall();\n",
    "for row in rows:\n",
    "    print(row)"
   ]
  },
  {
   "cell_type": "markdown",
   "metadata": {},
   "source": [
    "placeholder 이용하기"
   ]
  },
  {
   "cell_type": "code",
   "execution_count": 62,
   "metadata": {},
   "outputs": [
    {
     "name": "stdout",
     "output_type": "stream",
     "text": [
      "(50, '이성열', '내야수', '우투좌타', '효천고', 185)\n"
     ]
    }
   ],
   "source": [
    "cur = conn.cursor()\n",
    "back_no = 50\n",
    "cur.execute('SELECT * FROM Eagles WHERE back_no= ?;', (back_no,))\n",
    "player = cur.fetchone()\n",
    "print(player)"
   ]
  },
  {
   "cell_type": "markdown",
   "metadata": {},
   "source": [
    "업데이트 할 데이터가 없어서 마크다운으로 작성\n",
    "\n",
    "=> 등번호 30번인 사람을 hands를 우투좌타로, hightschool은 미쿡고로 height는 190으로\n",
    "수정하여라, 그리고 업데이트하여라\n",
    "\n",
    "cur = coonn.cursonr()\n",
    "\n",
    "cur.execute(\"UPDATE Eagles SET hands = '우투좌타', highschool='미쿡고', height=190 WHERE back_no = 30:\")\n",
    "\n",
    "conn.commit()\n"
   ]
  },
  {
   "cell_type": "code",
   "execution_count": 64,
   "metadata": {},
   "outputs": [],
   "source": [
    "cur = conn.cursor()\n",
    "cur.execute('DELETE FROM Eagles WHERE back_no=14;')\n",
    "conn.commit()"
   ]
  },
  {
   "cell_type": "markdown",
   "metadata": {},
   "source": [
    "table join을 위한 준비작업"
   ]
  },
  {
   "cell_type": "code",
   "execution_count": 91,
   "metadata": {},
   "outputs": [
    {
     "data": {
      "text/plain": [
       "<sqlite3.Cursor at 0x4f2fe30>"
      ]
     },
     "execution_count": 91,
     "metadata": {},
     "output_type": "execute_result"
    }
   ],
   "source": [
    "cur = conn.cursor()\n",
    "cur.execute('CREATE TABLE IF NOT EXISTS Stats \\\n",
    "    (id INT NOT NULL, \\\n",
    "     player TEXT, \\\n",
    "     average REAL, \\\n",
    "     rbi INT, \\\n",
    "     homerun INT, \\\n",
    "     PRIMARY KEY(id));')"
   ]
  },
  {
   "cell_type": "code",
   "execution_count": 92,
   "metadata": {},
   "outputs": [],
   "source": [
    "conn.commit()"
   ]
  },
  {
   "cell_type": "code",
   "execution_count": 81,
   "metadata": {},
   "outputs": [
    {
     "data": {
      "text/html": [
       "<div>\n",
       "<style scoped>\n",
       "    .dataframe tbody tr th:only-of-type {\n",
       "        vertical-align: middle;\n",
       "    }\n",
       "\n",
       "    .dataframe tbody tr th {\n",
       "        vertical-align: top;\n",
       "    }\n",
       "\n",
       "    .dataframe thead th {\n",
       "        text-align: right;\n",
       "    }\n",
       "</style>\n",
       "<table border=\"1\" class=\"dataframe\">\n",
       "  <thead>\n",
       "    <tr style=\"text-align: right;\">\n",
       "      <th></th>\n",
       "      <th>player</th>\n",
       "      <th>average</th>\n",
       "      <th>rbi</th>\n",
       "      <th>homerun</th>\n",
       "    </tr>\n",
       "  </thead>\n",
       "  <tbody>\n",
       "    <tr>\n",
       "      <th>0</th>\n",
       "      <td>최재훈</td>\n",
       "      <td>0.300</td>\n",
       "      <td>23</td>\n",
       "      <td>2</td>\n",
       "    </tr>\n",
       "    <tr>\n",
       "      <th>1</th>\n",
       "      <td>제라드호잉</td>\n",
       "      <td>0.288</td>\n",
       "      <td>58</td>\n",
       "      <td>15</td>\n",
       "    </tr>\n",
       "    <tr>\n",
       "      <th>2</th>\n",
       "      <td>이성열</td>\n",
       "      <td>0.255</td>\n",
       "      <td>62</td>\n",
       "      <td>18</td>\n",
       "    </tr>\n",
       "    <tr>\n",
       "      <th>3</th>\n",
       "      <td>김태균</td>\n",
       "      <td>0.308</td>\n",
       "      <td>43</td>\n",
       "      <td>5</td>\n",
       "    </tr>\n",
       "    <tr>\n",
       "      <th>4</th>\n",
       "      <td>정은원</td>\n",
       "      <td>0.281</td>\n",
       "      <td>47</td>\n",
       "      <td>5</td>\n",
       "    </tr>\n",
       "    <tr>\n",
       "      <th>5</th>\n",
       "      <td>변우혁</td>\n",
       "      <td>0.226</td>\n",
       "      <td>2</td>\n",
       "      <td>1</td>\n",
       "    </tr>\n",
       "    <tr>\n",
       "      <th>6</th>\n",
       "      <td>노시환</td>\n",
       "      <td>0.190</td>\n",
       "      <td>12</td>\n",
       "      <td>1</td>\n",
       "    </tr>\n",
       "    <tr>\n",
       "      <th>7</th>\n",
       "      <td>유장혁</td>\n",
       "      <td>0.174</td>\n",
       "      <td>3</td>\n",
       "      <td>1</td>\n",
       "    </tr>\n",
       "    <tr>\n",
       "      <th>8</th>\n",
       "      <td>강경학</td>\n",
       "      <td>0.213</td>\n",
       "      <td>6</td>\n",
       "      <td>0</td>\n",
       "    </tr>\n",
       "  </tbody>\n",
       "</table>\n",
       "</div>"
      ],
      "text/plain": [
       "  player  average  rbi  homerun\n",
       "0    최재훈    0.300   23        2\n",
       "1  제라드호잉    0.288   58       15\n",
       "2    이성열    0.255   62       18\n",
       "3    김태균    0.308   43        5\n",
       "4    정은원    0.281   47        5\n",
       "5    변우혁    0.226    2        1\n",
       "6    노시환    0.190   12        1\n",
       "7    유장혁    0.174    3        1\n",
       "8    강경학    0.213    6        0"
      ]
     },
     "execution_count": 81,
     "metadata": {},
     "output_type": "execute_result"
    }
   ],
   "source": [
    "stats = pd.read_csv('./stats.csv', encoding='EUC-KR')\n",
    "stats"
   ]
  },
  {
   "cell_type": "code",
   "execution_count": 93,
   "metadata": {},
   "outputs": [],
   "source": [
    "cur = conn.cursor()\n",
    "sql = 'INSERT INTO STATS VALUES (?, ?, ?, ?, ?);'\n",
    "for i in range(9):\n",
    "    cur.execute(sql, (i+1, \n",
    "                      stats.iloc[i,0], \n",
    "                      float(stats.iloc[i,1]),\n",
    "                     int(stats.iloc[i,2]),\n",
    "                     int(stats.iloc[i,3])))\n",
    "conn.commit()"
   ]
  },
  {
   "cell_type": "code",
   "execution_count": 94,
   "metadata": {},
   "outputs": [
    {
     "name": "stdout",
     "output_type": "stream",
     "text": [
      "(1, '최재훈', 0.3, 23, 2)\n",
      "(2, '제라드호잉', 0.28800000000000003, 58, 15)\n",
      "(3, '이성열', 0.255, 62, 18)\n",
      "(4, '김태균', 0.308, 43, 5)\n",
      "(5, '정은원', 0.281, 47, 5)\n",
      "(6, '변우혁', 0.226, 2, 1)\n",
      "(7, '노시환', 0.19, 12, 1)\n",
      "(8, '유장혁', 0.174, 3, 1)\n",
      "(9, '강경학', 0.213, 6, 0)\n"
     ]
    }
   ],
   "source": [
    "cur = conn.cursor()\n",
    "cur.execute('SELECT * FROM Stats')\n",
    "for row in cur:\n",
    "    print(row)"
   ]
  },
  {
   "cell_type": "code",
   "execution_count": 95,
   "metadata": {},
   "outputs": [
    {
     "name": "stdout",
     "output_type": "stream",
     "text": [
      "(13, '최재훈', '포수', 0.3, 23, 2)\n",
      "(30, '제라드호잉', '외야수', 0.28800000000000003, 58, 15)\n",
      "(50, '이성열', '내야수', 0.255, 62, 18)\n",
      "(52, '김태균', '내야수', 0.308, 43, 5)\n",
      "(43, '정은원', '내야수', 0.281, 47, 5)\n",
      "(27, '변우혁', '내야수', 0.226, 2, 1)\n",
      "(37, '노시환', '내야수', 0.19, 12, 1)\n",
      "(66, '유장혁', '외야수', 0.174, 3, 1)\n"
     ]
    }
   ],
   "source": [
    "sql = \"SELECT Eagles.back_no, Eagles.name, Eagles.position, Stats.average, Stats.rbi, \\\n",
    "Stats.homerun FROM Eagles JOIN Stats ON Eagles.name like Stats.player;\"\n",
    "\n",
    "cur = conn.cursor()\n",
    "cur.execute(sql)\n",
    "for row in cur:\n",
    "    print(row)"
   ]
  },
  {
   "cell_type": "code",
   "execution_count": 97,
   "metadata": {},
   "outputs": [],
   "source": [
    "import pandas as pd"
   ]
  },
  {
   "cell_type": "code",
   "execution_count": 99,
   "metadata": {},
   "outputs": [
    {
     "data": {
      "text/html": [
       "<div>\n",
       "<style scoped>\n",
       "    .dataframe tbody tr th:only-of-type {\n",
       "        vertical-align: middle;\n",
       "    }\n",
       "\n",
       "    .dataframe tbody tr th {\n",
       "        vertical-align: top;\n",
       "    }\n",
       "\n",
       "    .dataframe thead th {\n",
       "        text-align: right;\n",
       "    }\n",
       "</style>\n",
       "<table border=\"1\" class=\"dataframe\">\n",
       "  <thead>\n",
       "    <tr style=\"text-align: right;\">\n",
       "      <th></th>\n",
       "      <th>등번호</th>\n",
       "      <th>선수명</th>\n",
       "      <th>포지션</th>\n",
       "      <th>타율</th>\n",
       "      <th>타점</th>\n",
       "      <th>홈런</th>\n",
       "    </tr>\n",
       "  </thead>\n",
       "  <tbody>\n",
       "    <tr>\n",
       "      <th>0</th>\n",
       "      <td>13</td>\n",
       "      <td>최재훈</td>\n",
       "      <td>포수</td>\n",
       "      <td>0.300</td>\n",
       "      <td>23</td>\n",
       "      <td>2</td>\n",
       "    </tr>\n",
       "    <tr>\n",
       "      <th>1</th>\n",
       "      <td>30</td>\n",
       "      <td>제라드호잉</td>\n",
       "      <td>외야수</td>\n",
       "      <td>0.288</td>\n",
       "      <td>58</td>\n",
       "      <td>15</td>\n",
       "    </tr>\n",
       "    <tr>\n",
       "      <th>2</th>\n",
       "      <td>50</td>\n",
       "      <td>이성열</td>\n",
       "      <td>내야수</td>\n",
       "      <td>0.255</td>\n",
       "      <td>62</td>\n",
       "      <td>18</td>\n",
       "    </tr>\n",
       "    <tr>\n",
       "      <th>3</th>\n",
       "      <td>52</td>\n",
       "      <td>김태균</td>\n",
       "      <td>내야수</td>\n",
       "      <td>0.308</td>\n",
       "      <td>43</td>\n",
       "      <td>5</td>\n",
       "    </tr>\n",
       "    <tr>\n",
       "      <th>4</th>\n",
       "      <td>43</td>\n",
       "      <td>정은원</td>\n",
       "      <td>내야수</td>\n",
       "      <td>0.281</td>\n",
       "      <td>47</td>\n",
       "      <td>5</td>\n",
       "    </tr>\n",
       "    <tr>\n",
       "      <th>5</th>\n",
       "      <td>27</td>\n",
       "      <td>변우혁</td>\n",
       "      <td>내야수</td>\n",
       "      <td>0.226</td>\n",
       "      <td>2</td>\n",
       "      <td>1</td>\n",
       "    </tr>\n",
       "    <tr>\n",
       "      <th>6</th>\n",
       "      <td>37</td>\n",
       "      <td>노시환</td>\n",
       "      <td>내야수</td>\n",
       "      <td>0.190</td>\n",
       "      <td>12</td>\n",
       "      <td>1</td>\n",
       "    </tr>\n",
       "    <tr>\n",
       "      <th>7</th>\n",
       "      <td>66</td>\n",
       "      <td>유장혁</td>\n",
       "      <td>외야수</td>\n",
       "      <td>0.174</td>\n",
       "      <td>3</td>\n",
       "      <td>1</td>\n",
       "    </tr>\n",
       "  </tbody>\n",
       "</table>\n",
       "</div>"
      ],
      "text/plain": [
       "  등번호    선수명  포지션     타율  타점  홈런\n",
       "0  13    최재훈   포수  0.300  23   2\n",
       "1  30  제라드호잉  외야수  0.288  58  15\n",
       "2  50    이성열  내야수  0.255  62  18\n",
       "3  52    김태균  내야수  0.308  43   5\n",
       "4  43    정은원  내야수  0.281  47   5\n",
       "5  27    변우혁  내야수  0.226   2   1\n",
       "6  37    노시환  내야수  0.190  12   1\n",
       "7  66    유장혁  외야수  0.174   3   1"
      ]
     },
     "execution_count": 99,
     "metadata": {},
     "output_type": "execute_result"
    }
   ],
   "source": [
    "sql = \"SELECT e.back_no, e.name, e.position, s.average, s.rbi, s.homerun \\\n",
    "FROM Eagles AS e JOIN Stats AS s ON e.name like s.player;\"\n",
    "cur = conn.cursor()\n",
    "cur.execute(sql)\n",
    "rows = cur.fetchall();\n",
    "columnName = ['등번호', '선수명', '포지션', '타율', '타점', '홈런']\n",
    "eagles_df = pd.DataFrame(columns = columnName) # 빈 데이터 프레임 만들기\n",
    "for row in rows:\n",
    "    eagles_df = eagles_df.append(pd.DataFrame([list(row)], \n",
    "                                             columns = columnName), ignore_index = True)\n",
    "eagles_df"
   ]
  },
  {
   "cell_type": "code",
   "execution_count": 1,
   "metadata": {},
   "outputs": [
    {
     "ename": "NameError",
     "evalue": "name 'conn' is not defined",
     "output_type": "error",
     "traceback": [
      "\u001b[1;31m---------------------------------------------------------------------------\u001b[0m",
      "\u001b[1;31mNameError\u001b[0m                                 Traceback (most recent call last)",
      "\u001b[1;32m<ipython-input-1-8dd0cd799055>\u001b[0m in \u001b[0;36m<module>\u001b[1;34m\u001b[0m\n\u001b[1;32m----> 1\u001b[1;33m \u001b[0mconn\u001b[0m\u001b[1;33m.\u001b[0m\u001b[0mclose\u001b[0m\u001b[1;33m(\u001b[0m\u001b[1;33m)\u001b[0m\u001b[1;33m\u001b[0m\u001b[1;33m\u001b[0m\u001b[0m\n\u001b[0m",
      "\u001b[1;31mNameError\u001b[0m: name 'conn' is not defined"
     ]
    }
   ],
   "source": [
    "conn.close()"
   ]
  },
  {
   "cell_type": "code",
   "execution_count": null,
   "metadata": {},
   "outputs": [],
   "source": []
  }
 ],
 "metadata": {
  "kernelspec": {
   "display_name": "Python 3",
   "language": "python",
   "name": "python3"
  },
  "language_info": {
   "codemirror_mode": {
    "name": "ipython",
    "version": 3
   },
   "file_extension": ".py",
   "mimetype": "text/x-python",
   "name": "python",
   "nbconvert_exporter": "python",
   "pygments_lexer": "ipython3",
   "version": "3.7.3"
  }
 },
 "nbformat": 4,
 "nbformat_minor": 2
}
